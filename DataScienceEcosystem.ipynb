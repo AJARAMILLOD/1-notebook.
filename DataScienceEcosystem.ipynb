{
 "cells": [
  {
   "cell_type": "code",
   "execution_count": 2,
   "id": "aa32fb7e-7b80-4cf1-bb8f-cbaf9ad562d9",
   "metadata": {},
   "outputs": [
    {
     "ename": "SyntaxError",
     "evalue": "invalid syntax (3779869737.py, line 1)",
     "output_type": "error",
     "traceback": [
      "\u001b[1;36m  Cell \u001b[1;32mIn[2], line 1\u001b[1;36m\u001b[0m\n\u001b[1;33m    H1 Data Science Tools and Ecosystem\u001b[0m\n\u001b[1;37m       ^\u001b[0m\n\u001b[1;31mSyntaxError\u001b[0m\u001b[1;31m:\u001b[0m invalid syntax\n"
     ]
    }
   ],
   "source": [
    "H1 Data Science Tools and Ecosystem "
   ]
  },
  {
   "cell_type": "markdown",
   "id": "d1973ef4-31aa-4275-b11c-b88aadc32839",
   "metadata": {},
   "source": [
    "# Data Science Tools and Ecosystem"
   ]
  },
  {
   "cell_type": "markdown",
   "id": "0bf8d338-c5c4-4b2f-8987-294c67820647",
   "metadata": {},
   "source": [
    "In this notebook, Data Science Tools and Ecosystem are summarized"
   ]
  },
  {
   "cell_type": "markdown",
   "id": "172e0eee-3c17-42fc-8b4c-28fffffef3e7",
   "metadata": {},
   "source": [
    "**Objectives:**"
   ]
  },
  {
   "cell_type": "markdown",
   "id": "276f2236-7fc9-42ff-8e10-d3e7c5db2329",
   "metadata": {},
   "source": [
    "- How to create a new Jupyter Notebook\n",
    "- How to add and divide\n",
    "- What are the main common libraries"
   ]
  },
  {
   "cell_type": "markdown",
   "id": "d57983c2-9f2f-4824-a002-3e0ab287985e",
   "metadata": {},
   "source": [
    "Some of the popular languages that Data Scientists use are:"
   ]
  },
  {
   "cell_type": "markdown",
   "id": "947ca969-4190-4a97-a1d4-55e0ec43f3d3",
   "metadata": {},
   "source": [
    "1. PHYTON"
   ]
  },
  {
   "cell_type": "markdown",
   "id": "699dbbcf-0525-438e-a573-861ab409267b",
   "metadata": {},
   "source": [
    "2. RSTUDIO"
   ]
  },
  {
   "cell_type": "markdown",
   "id": "6a1adc93-f794-4231-aa1e-6dd2f4149bc0",
   "metadata": {},
   "source": [
    "3. SQL"
   ]
  },
  {
   "cell_type": "markdown",
   "id": "52aec189-1cf4-475f-abc0-dd9157980200",
   "metadata": {},
   "source": [
    "Some of the commonly used libraries used by Data Scientists include:"
   ]
  },
  {
   "cell_type": "code",
   "execution_count": 19,
   "id": "130974f4-198b-4880-8f8e-8b30499c1b4b",
   "metadata": {},
   "outputs": [
    {
     "ename": "SyntaxError",
     "evalue": "invalid syntax (904152120.py, line 1)",
     "output_type": "error",
     "traceback": [
      "\u001b[1;36m  Cell \u001b[1;32mIn[19], line 1\u001b[1;36m\u001b[0m\n\u001b[1;33m    1. Pandas\u001b[0m\n\u001b[1;37m       ^\u001b[0m\n\u001b[1;31mSyntaxError\u001b[0m\u001b[1;31m:\u001b[0m invalid syntax\n"
     ]
    }
   ],
   "source": [
    "1. Pandas"
   ]
  },
  {
   "cell_type": "markdown",
   "id": "8e94e08c-6cd9-4add-8650-ef1726028ee6",
   "metadata": {},
   "source": [
    "Some of the commonly used libraries used by Data Scientists include:"
   ]
  },
  {
   "cell_type": "markdown",
   "id": "fac9ed68-f3e3-42b2-942f-270c2c589fa0",
   "metadata": {},
   "source": [
    "1. pandas"
   ]
  },
  {
   "cell_type": "markdown",
   "id": "e3d35a2e-0537-461c-9647-c7d52edbc365",
   "metadata": {},
   "source": [
    "2. Tensorflow"
   ]
  },
  {
   "cell_type": "markdown",
   "id": "56ced8fe-29c8-448f-a49a-bd26ef9d57ac",
   "metadata": {},
   "source": [
    "3. Numpy"
   ]
  },
  {
   "cell_type": "markdown",
   "id": "845f96f3-057c-47e9-8e63-f6cab1fc8db6",
   "metadata": {},
   "source": [
    "Data Science Tools\n",
    "\n",
    "Rstudio|\n",
    "Apache Spark |\n",
    "Tensor Flow |"
   ]
  },
  {
   "cell_type": "markdown",
   "id": "4272902a-23c5-43fd-a54c-812b4f06e643",
   "metadata": {},
   "source": [
    "Data Science Tools\n",
    "\n",
    "RStudio\n",
    "Apache Spark\n",
    "Tensor Flow"
   ]
  },
  {
   "cell_type": "code",
   "execution_count": 27,
   "id": "dd9a210b-db03-4ef8-9fa0-90af88cc50d8",
   "metadata": {},
   "outputs": [
    {
     "ename": "SyntaxError",
     "evalue": "invalid syntax (789387341.py, line 1)",
     "output_type": "error",
     "traceback": [
      "\u001b[1;36m  Cell \u001b[1;32mIn[27], line 1\u001b[1;36m\u001b[0m\n\u001b[1;33m    Data Science Tools\u001b[0m\n\u001b[1;37m         ^\u001b[0m\n\u001b[1;31mSyntaxError\u001b[0m\u001b[1;31m:\u001b[0m invalid syntax\n"
     ]
    }
   ],
   "source": [
    "Data Science Tools\n",
    "\n",
    "Rstudio\n",
    "Apache Spark \n",
    "Tensor Flow"
   ]
  },
  {
   "cell_type": "markdown",
   "id": "a221902e-cc52-4b96-b07d-41b7d7ad8ffe",
   "metadata": {},
   "source": [
    "Data Science Tools\n",
    "\n",
    "Rstudio\n",
    "Apache Spark \n",
    "Tensor Flow"
   ]
  },
  {
   "cell_type": "markdown",
   "id": "fdbee8ef-1c1d-43b1-8582-42fc7ae0d8b7",
   "metadata": {},
   "source": [
    "Data Science Tools\n",
    "---------------------\n",
    "Rstudio\n",
    "Apache Spark \n",
    "Tensor Flow"
   ]
  },
  {
   "cell_type": "markdown",
   "id": "7b9531fb-ee05-4823-8e9f-bc6c27995356",
   "metadata": {},
   "source": [
    "Data Science Tools\n",
    "\n",
    "|Rstudio| \n",
    "|Apache Spark|\n",
    "|Tensor Flow|"
   ]
  },
  {
   "cell_type": "markdown",
   "id": "1ed7372e-ca80-450a-aeec-e4d26976a8b6",
   "metadata": {},
   "source": [
    "### Below are a few examples of evaluating arithmetic expressions in Python"
   ]
  },
  {
   "cell_type": "markdown",
   "id": "fa7303a4-0e43-4e74-8e38-6a820aab3cba",
   "metadata": {},
   "source": [
    "This a simple arithmetic expression to mutiply then add integers"
   ]
  },
  {
   "cell_type": "code",
   "execution_count": 34,
   "id": "e2725744-6449-4403-9697-8d8e1556ceb1",
   "metadata": {},
   "outputs": [
    {
     "data": {
      "text/plain": [
       "17"
      ]
     },
     "execution_count": 34,
     "metadata": {},
     "output_type": "execute_result"
    }
   ],
   "source": [
    "(3*4)+5"
   ]
  },
  {
   "cell_type": "markdown",
   "id": "b0135f1a-b44a-453d-b97e-dde4e212d4bc",
   "metadata": {},
   "source": [
    "This will convert 200 minutes to hours by diving by 60"
   ]
  },
  {
   "cell_type": "code",
   "execution_count": 39,
   "id": "96213f2e-82e0-47c9-a067-e2f5994a52a0",
   "metadata": {},
   "outputs": [
    {
     "data": {
      "text/plain": [
       "(3, 20)"
      ]
     },
     "execution_count": 39,
     "metadata": {},
     "output_type": "execute_result"
    }
   ],
   "source": [
    "divmod(200,60)"
   ]
  },
  {
   "cell_type": "markdown",
   "id": "1f04cba6-3936-4527-9d1a-56417e77dae5",
   "metadata": {},
   "source": [
    "## Autor:\n",
    "Alexandra JAramillo Diaz"
   ]
  },
  {
   "cell_type": "code",
   "execution_count": null,
   "id": "8ad812a2-7d0f-4479-9e5d-96caf6a52c31",
   "metadata": {},
   "outputs": [],
   "source": []
  },
  {
   "cell_type": "code",
   "execution_count": null,
   "id": "d005a5c7-e83f-40bd-8250-bf053ae821d8",
   "metadata": {},
   "outputs": [],
   "source": []
  }
 ],
 "metadata": {
  "kernelspec": {
   "display_name": "Python 3 (ipykernel)",
   "language": "python",
   "name": "python3"
  },
  "language_info": {
   "codemirror_mode": {
    "name": "ipython",
    "version": 3
   },
   "file_extension": ".py",
   "mimetype": "text/x-python",
   "name": "python",
   "nbconvert_exporter": "python",
   "pygments_lexer": "ipython3",
   "version": "3.12.4"
  }
 },
 "nbformat": 4,
 "nbformat_minor": 5
}
